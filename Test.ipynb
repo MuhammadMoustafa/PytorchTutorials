{
 "cells": [
  {
   "cell_type": "code",
   "execution_count": 28,
   "id": "cfedf70d",
   "metadata": {},
   "outputs": [],
   "source": [
    "# cell to copy only 1000 image to a new folder\n",
    "import os\n",
    "import shutil\n",
    "from pathlib import Path\n",
    "\n",
    "old_root = './Task'\n",
    "new_root = './Task_1000'\n",
    "zip_root = './zipFolders'\n",
    "\n",
    "labels = os.listdir(old_root)\n",
    "for label in labels:\n",
    "    old_path = f\"{old_root}/{label}\"\n",
    "    new_path = f\"{new_root}/{label}\"\n",
    "#     shutil.make_archive(f\"{label}.zip\", 'zip', old_path)\n",
    "    Path(new_path).mkdir(parents=True, exist_ok=True)\n",
    "    files = os.listdir(old_path)\n",
    "    i = 0\n",
    "    while i < 1000: \n",
    "        shutil.copyfile(f\"{old_path}/{files[i]}\", f\"{new_path}/{files[i]}\")\n",
    "        i += 1\n",
    "# print(files)"
   ]
  },
  {
   "cell_type": "code",
   "execution_count": 25,
   "id": "c0d6801a",
   "metadata": {},
   "outputs": [],
   "source": [
    "# cell to archive all image folders\n",
    "import os\n",
    "import shutil\n",
    "\n",
    "labels = os.listdir(old_root)\n",
    "Path(zip_root).mkdir(parents=True, exist_ok=True)\n",
    "for label in labels:\n",
    "    shutil.make_archive(f\"{zip_root}/{label}\", 'zip', f\"{old_root}/{label}\")\n",
    "# print(f\"{zip_root}/{label}\")"
   ]
  },
  {
   "cell_type": "code",
   "execution_count": null,
   "id": "b0142c53",
   "metadata": {},
   "outputs": [],
   "source": [
    "# cell to generate csv file that contains all image paths and labels\n",
    "import pandas as pd\n",
    "import os\n",
    "\n",
    "dataset_df = pd.DataFrame(columns=[\"img_name\",\"label\"])\n",
    "\n",
    "img_data_dir = './Task'\n",
    "classes = os.listdir(img_data_dir)\n",
    "\n",
    "i = 0;\n",
    "for label in classes:  ## looping over each class\n",
    "\n",
    "    class_path = img_data_dir + \"/\" + label  ## create the path of each image class\n",
    "\n",
    "    files = os.listdir(class_path)  ## list of all files in each image class folder\n",
    "\n",
    "    for file in files:  ## Enumerate over each image list\n",
    "        dataset_df.loc[i] = [ os.path.join(class_path, file), ord(label) - ord('a')]\n",
    "        i += 1\n",
    "        \n",
    "dataset_df.to_csv ('dataset_csv.csv', index = False, header=True)"
   ]
  }
 ],
 "metadata": {
  "kernelspec": {
   "display_name": "Python 3",
   "language": "python",
   "name": "python3"
  },
  "language_info": {
   "codemirror_mode": {
    "name": "ipython",
    "version": 3
   },
   "file_extension": ".py",
   "mimetype": "text/x-python",
   "name": "python",
   "nbconvert_exporter": "python",
   "pygments_lexer": "ipython3",
   "version": "3.7.10"
  }
 },
 "nbformat": 4,
 "nbformat_minor": 5
}
