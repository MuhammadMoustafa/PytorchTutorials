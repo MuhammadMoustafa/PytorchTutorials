{
 "cells": [
  {
   "cell_type": "code",
   "execution_count": 1,
   "id": "b34ef03f",
   "metadata": {},
   "outputs": [],
   "source": [
    "import numpy as np\n",
    "import torch\n",
    "import torchvision\n",
    "import matplotlib.pyplot as plt\n",
    "from time import time\n",
    "from torchvision import datasets, transforms\n",
    "from torch import nn, optim\n",
    "from PIL import Image\n",
    "from matplotlib.pyplot import imshow\n",
    "import os\n",
    "import pandas as pd"
   ]
  },
  {
   "cell_type": "markdown",
   "id": "5e798657",
   "metadata": {},
   "source": [
    "### Connect to gpu if available"
   ]
  },
  {
   "cell_type": "code",
   "execution_count": 2,
   "id": "1262985a",
   "metadata": {},
   "outputs": [
    {
     "data": {
      "text/plain": [
       "device(type='cpu')"
      ]
     },
     "execution_count": 2,
     "metadata": {},
     "output_type": "execute_result"
    }
   ],
   "source": [
    "device = torch.device(\"cuda:0\" if torch.cuda.is_available() else \"cpu\")\n",
    "device"
   ]
  },
  {
   "cell_type": "code",
   "execution_count": null,
   "id": "ba7099b8",
   "metadata": {},
   "outputs": [],
   "source": [
    "# cell to generate csv file that contains all image paths and labels\n",
    "import pandas as pd\n",
    "import os\n",
    "\n",
    "dataset_df = pd.DataFrame(columns=[\"img_name\",\"label\"])\n",
    "\n",
    "img_data_dir = './Task'\n",
    "classes = os.listdir(img_data_dir)\n",
    "\n",
    "i = 0;\n",
    "for label in classes:  ## looping over each class\n",
    "\n",
    "    class_path = img_data_dir + \"/\" + label  ## create the path of each image class\n",
    "\n",
    "    files = os.listdir(class_path)  ## list of all files in each image class folder\n",
    "\n",
    "    for file in files:  ## Enumerate over each image list\n",
    "        dataset_df.loc[i] = [ os.path.join(class_path, file), ord(label) - ord('a')]\n",
    "        i += 1\n",
    "        \n",
    "dataset_df.to_csv ('dataset_csv.csv', index = False, header=True)"
   ]
  },
  {
   "cell_type": "markdown",
   "id": "7f735369",
   "metadata": {},
   "source": [
    "### Set the root folder and dimensions of each image"
   ]
  },
  {
   "cell_type": "code",
   "execution_count": 11,
   "id": "715ae4bb",
   "metadata": {},
   "outputs": [],
   "source": [
    "root = \"./Task\"\n",
    "transform = transforms.Compose([transforms.ToTensor(),\n",
    "                              transforms.Normalize((0.5,), (0.5,)),\n",
    "                              ])\n",
    "image_length=128\n",
    "image_width=128\n",
    "number_of_classes=26"
   ]
  },
  {
   "cell_type": "markdown",
   "id": "8cdfdd1e",
   "metadata": {},
   "source": [
    "### Craete a class that inherits from  torch.utils.data.Dataset to load a custom data set"
   ]
  },
  {
   "cell_type": "code",
   "execution_count": 16,
   "id": "0b7f72e4",
   "metadata": {},
   "outputs": [],
   "source": [
    "class MyDataset(torch.utils.data.Dataset):\n",
    "\n",
    "    def __init__(self, root, transform, annotation_file):\n",
    "        \"\"\"\n",
    "        :param root: the directory where the dataset is.\n",
    "        :param transform: transformation that is needed to be applied to data before it is loaded by DataLoader.\n",
    "        :param annotation_file: csv file that holds the path and the label for each image.\n",
    "        \"\"\"\n",
    "        self.root = root\n",
    "        self.transform = transform\n",
    "        self.annotations = pd.read_csv(annotation_file)\n",
    "\n",
    "    def __len__(self):\n",
    "        \"\"\"\n",
    "        :return: the length of dataset, the number of data in dataset\n",
    "        \"\"\"\n",
    "        return len(self.annotations)\n",
    "\n",
    "    def __getitem__(self, idx):\n",
    "        \"\"\"\n",
    "        :param idx: index of data and corresponding label that we want to retrieve from dataset\n",
    "        :return: x --> the tesnor image of that index, y --> the label of that index\n",
    "        \"\"\"\n",
    "        path = self.annotations.iloc[idx, 0]\n",
    "        img = Image.open(path).convert('L')  ## each the images from the folder. We are passing the file path + name in \"imread\"\n",
    "        img = transform(img)\n",
    "        x = img\n",
    "        y = torch.tensor(self.annotations.iloc[idx, 1], dtype=torch.long)\n",
    "\n",
    "        return x, y"
   ]
  },
  {
   "cell_type": "markdown",
   "id": "58746027",
   "metadata": {},
   "source": [
    "### Declare the root folder and declare a new instance of the new class"
   ]
  },
  {
   "cell_type": "code",
   "execution_count": 17,
   "id": "2452e8e4",
   "metadata": {},
   "outputs": [],
   "source": [
    "dataset_file = './dataset_csv.csv'\n",
    "dataset = MyDataset(root, transform, dataset_file)"
   ]
  },
  {
   "cell_type": "markdown",
   "id": "86673f2e",
   "metadata": {},
   "source": [
    "### Split the data into train and validation sets,  create a data loader for each set"
   ]
  },
  {
   "cell_type": "code",
   "execution_count": 38,
   "id": "571d5d6b",
   "metadata": {},
   "outputs": [
    {
     "name": "stdout",
     "output_type": "stream",
     "text": [
      "Label =  v\n"
     ]
    },
    {
     "data": {
      "image/png": "[encoded data removed]",
      "text/plain": [
       "<Figure size 432x288 with 1 Axes>"
      ]
     },
     "metadata": {
      "needs_background": "light"
     },
     "output_type": "display_data"
    }
   ],
   "source": [
    "data_loader = torch.utils.data.DataLoader(dataset)\n",
    "\n",
    "train_size = int(0.8 * len(data_loader))\n",
    "val_size = len(data_loader) - train_size\n",
    "\n",
    "train_dataset, val_dataset = torch.utils.data.random_split(dataset, [train_size, test_size])\n",
    "\n",
    "trainloader = torch.utils.data.DataLoader(train_dataset, batch_size=64, shuffle=True)\n",
    "valloader = torch.utils.data.DataLoader(val_dataset, batch_size=64, shuffle=True)\n",
    "\n",
    "images, labels = next(iter(trainloader))\n",
    "\n",
    "## show a sample image\n",
    "print(\"Label = \", chr(labels[0] + ord('a')) )\n",
    "imshow(transforms.ToPILImage()(images[0]), cmap='gray');"
   ]
  },
  {
   "cell_type": "markdown",
   "id": "36be796c",
   "metadata": {},
   "source": [
    "### Build the neural network model"
   ]
  },
  {
   "cell_type": "code",
   "execution_count": 19,
   "id": "3d4a1a35",
   "metadata": {},
   "outputs": [
    {
     "name": "stdout",
     "output_type": "stream",
     "text": [
      "Sequential(\n",
      "  (0): Linear(in_features=16384, out_features=128, bias=True)\n",
      "  (1): ReLU()\n",
      "  (2): Linear(in_features=128, out_features=64, bias=True)\n",
      "  (3): ReLU()\n",
      "  (4): Linear(in_features=64, out_features=26, bias=True)\n",
      "  (5): LogSoftmax(dim=1)\n",
      ")\n"
     ]
    }
   ],
   "source": [
    "input_size = image_width*image_width\n",
    "hidden_sizes = [128, 64]\n",
    "output_size = number_of_classes\n",
    "\n",
    "model = nn.Sequential(nn.Linear(input_size, hidden_sizes[0]),\n",
    "                      nn.ReLU(),\n",
    "                      nn.Linear(hidden_sizes[0], hidden_sizes[1]),\n",
    "                      nn.ReLU(),\n",
    "                      nn.Linear(hidden_sizes[1], output_size),\n",
    "                      nn.LogSoftmax(dim=1))\n",
    "print(model)"
   ]
  },
  {
   "cell_type": "markdown",
   "id": "16a3cbea",
   "metadata": {},
   "source": [
    "### Test if everything is working"
   ]
  },
  {
   "cell_type": "code",
   "execution_count": 21,
   "id": "609e5fe4",
   "metadata": {},
   "outputs": [],
   "source": [
    "criterion = nn.NLLLoss()\n",
    "images, labels = next(iter(trainloader))\n",
    "images = images.view(images.shape[0], -1)\n",
    "\n",
    "logps = model(images) #log probabilities\n",
    "loss = criterion(logps, labels) #calculate the NLL loss"
   ]
  },
  {
   "cell_type": "markdown",
   "id": "fe5a1340",
   "metadata": {},
   "source": [
    "### The train loop"
   ]
  },
  {
   "cell_type": "code",
   "execution_count": 22,
   "id": "a3eab4f4",
   "metadata": {},
   "outputs": [
    {
     "name": "stdout",
     "output_type": "stream",
     "text": [
      "Epoch 0 - Training loss: 1.670554875649003\n",
      "Epoch 1 - Training loss: 1.003409009498598\n",
      "Epoch 2 - Training loss: 0.8159402048316394\n",
      "Epoch 3 - Training loss: 0.7249936859160923\n",
      "Epoch 4 - Training loss: 0.6669126106279326\n",
      "Epoch 5 - Training loss: 0.6180345008309585\n",
      "Epoch 6 - Training loss: 0.5888698937309393\n",
      "Epoch 7 - Training loss: 0.5674817070834691\n",
      "Epoch 8 - Training loss: 0.5552426192080911\n",
      "Epoch 9 - Training loss: 0.5313527806158033\n",
      "Epoch 10 - Training loss: 0.5176496311317601\n",
      "Epoch 11 - Training loss: 0.5080646556751531\n",
      "Epoch 12 - Training loss: 0.49129337079549\n",
      "Epoch 13 - Training loss: 0.4848606320792865\n",
      "Epoch 14 - Training loss: 0.4751515891500822\n",
      "\n",
      "Training Time (in minutes) = 77.5621245265007\n"
     ]
    }
   ],
   "source": [
    "optimizer = optim.SGD(model.parameters(), lr=0.003, momentum=0.9)\n",
    "time0 = time()\n",
    "epochs = 15\n",
    "for e in range(epochs):\n",
    "    running_loss = 0\n",
    "    for images, labels in trainloader:\n",
    "        # Flatten images into a 128*128 long vector\n",
    "        images = images.view(images.shape[0], -1)\n",
    "    \n",
    "        # Training pass\n",
    "        optimizer.zero_grad()\n",
    "        \n",
    "        output = model(images)\n",
    "        loss = criterion(output, labels)\n",
    "        \n",
    "        #This is where the model learns by backpropagating\n",
    "        loss.backward()\n",
    "        \n",
    "        #And optimizes its weights here\n",
    "        optimizer.step()\n",
    "        \n",
    "        running_loss += loss.item()\n",
    "    else:\n",
    "        print(\"Epoch {} - Training loss: {}\".format(e, running_loss/len(trainloader)))\n",
    "print(\"\\nTraining Time (in minutes) =\",(time()-time0)/60)"
   ]
  },
  {
   "cell_type": "markdown",
   "id": "a21b7dd4",
   "metadata": {},
   "source": [
    "### Perfrom a prediction on a sample image"
   ]
  },
  {
   "cell_type": "code",
   "execution_count": 23,
   "id": "56f75226",
   "metadata": {},
   "outputs": [
    {
     "name": "stdout",
     "output_type": "stream",
     "text": [
      "Predicted Digit = 17 label = tensor(17)\n"
     ]
    }
   ],
   "source": [
    "images, labels = next(iter(valloader))\n",
    "\n",
    "img = images[0].view(1, image_length*image_width)\n",
    "with torch.no_grad():\n",
    "    logps = model(img)\n",
    "\n",
    "ps = torch.exp(logps)\n",
    "probab = list(ps.numpy()[0])\n",
    "print(\"Predicted Digit =\", probab.index(max(probab)), \"label =\", labels[0].item())"
   ]
  },
  {
   "cell_type": "markdown",
   "id": "7ea34bf0",
   "metadata": {},
   "source": [
    "### save the model for later use"
   ]
  },
  {
   "cell_type": "code",
   "execution_count": 24,
   "id": "b020fe6e",
   "metadata": {},
   "outputs": [],
   "source": [
    "torch.save(model, './my_model.pt') "
   ]
  },
  {
   "cell_type": "markdown",
   "id": "e8d8b2f2",
   "metadata": {},
   "source": [
    "### Validate the model"
   ]
  },
  {
   "cell_type": "code",
   "execution_count": 69,
   "id": "5a6c37ad",
   "metadata": {},
   "outputs": [],
   "source": [
    "pred_labels = []\n",
    "true_labels = []\n",
    "\n",
    "for images,labels in valloader:\n",
    "    for i in range(len(labels)):\n",
    "        img = images[i].view(1, image_length*image_width)\n",
    "        with torch.no_grad():\n",
    "            logps = model(img)\n",
    "\n",
    "        ps = torch.exp(logps)\n",
    "        pred_labels.append(ps.argmax().item())\n",
    "        true_labels.append(labels[i].item())"
   ]
  },
  {
   "cell_type": "markdown",
   "id": "164e684c",
   "metadata": {},
   "source": [
    "### Report Model Metrics"
   ]
  },
  {
   "cell_type": "code",
   "execution_count": 75,
   "id": "92024464",
   "metadata": {},
   "outputs": [
    {
     "name": "stdout",
     "output_type": "stream",
     "text": [
      "              precision    recall  f1-score   support\n",
      "\n",
      "           0       0.86      0.86      0.86      1026\n",
      "           1       0.90      0.92      0.91       988\n",
      "           2       0.81      0.92      0.86       584\n",
      "           3       0.91      0.93      0.92       970\n",
      "           4       0.94      0.90      0.92      1015\n",
      "           5       0.83      0.89      0.86       510\n",
      "           6       0.77      0.60      0.68       774\n",
      "           7       0.89      0.87      0.88       981\n",
      "           8       0.74      0.61      0.67       521\n",
      "           9       0.94      0.62      0.75       400\n",
      "          10       0.77      0.87      0.82       496\n",
      "          11       0.84      0.96      0.90      1043\n",
      "          12       0.97      0.90      0.93       534\n",
      "          13       0.88      0.94      0.91       978\n",
      "          14       0.86      0.90      0.88       553\n",
      "          15       0.82      0.90      0.86       465\n",
      "          16       0.57      0.81      0.67       589\n",
      "          17       0.92      0.95      0.93      1005\n",
      "          18       0.95      0.86      0.90       562\n",
      "          19       0.87      0.91      0.89      1036\n",
      "          20       0.86      0.80      0.83       550\n",
      "          21       0.86      0.81      0.83       582\n",
      "          22       0.92      0.93      0.92       514\n",
      "          23       0.88      0.83      0.85       563\n",
      "          24       0.96      0.57      0.71       490\n",
      "          25       0.88      0.92      0.90       531\n",
      "\n",
      "    accuracy                           0.86     18260\n",
      "   macro avg       0.86      0.84      0.85     18260\n",
      "weighted avg       0.87      0.86      0.86     18260\n",
      "\n"
     ]
    }
   ],
   "source": [
    "from sklearn.metrics import classification_report\n",
    "print(classification_report(true_labels, pred_labels))"
   ]
  },
  {
   "cell_type": "markdown",
   "id": "4141a3b9",
   "metadata": {},
   "source": [
    "### References that helped me through the task\n",
    "- https://medium.com/analytics-vidhya/implementing-cnn-in-pytorch-with-custom-dataset-and-transfer-learning-1864daac14cc\n",
    "- https://towardsdatascience.com/handwritten-digit-mnist-pytorch-977b5338e627"
   ]
  }
 ],
 "metadata": {
  "kernelspec": {
   "display_name": "Python 3",
   "language": "python",
   "name": "python3"
  },
  "language_info": {
   "codemirror_mode": {
    "name": "ipython",
    "version": 3
   },
   "file_extension": ".py",
   "mimetype": "text/x-python",
   "name": "python",
   "nbconvert_exporter": "python",
   "pygments_lexer": "ipython3",
   "version": "3.7.10"
  }
 },
 "nbformat": 4,
 "nbformat_minor": 5
}
